{
    "cells": [
        {
            "attachments": {},
            "cell_type": "markdown",
            "metadata": {},
            "source": [
                "# Building and Visualising Parse Trees in Python"
            ]
        },
        {
            "attachments": {},
            "cell_type": "markdown",
            "metadata": {},
            "source": [
                "## Introduction\n",
                "In this tutorial, we'll explore how to construct and visualise parse trees using Python. Parse trees are essential in understanding the syntactic structure of sentences, whether in programming languages or natural languages. We'll use two Python libraries, NetworkX for graph manipulation and Matplotlib for visualisation."
            ]
        },
        {
            "attachments": {},
            "cell_type": "markdown",
            "metadata": {},
            "source": [
                "## Step 1 - Our Grammar\n",
                "\n",
                "For this tutorial, we'll use a simple arithmetic grammar that encompasses addition and multiplication. In Backus-Naur Form, a simplified version of our grammar could be:"
            ]
        },
        {
            "cell_type": "code",
            "execution_count": 6,
            "metadata": {},
            "outputs": [],
            "source": [
                "grammar = {\n",
                "    \"<expressio>n\": [\n",
                "        (\"<term>\",),\n",
                "        (\"<expression>\", \"+\", \"<term>\"),\n",
                "        (\"<expression>\", \"-\", \"<term>\")\n",
                "    ],\n",
                "    \"<term>\": [\n",
                "        (\"<factor>\",),\n",
                "        (\"<term>\", \"*\", \"<factor>\"),\n",
                "        (\"<term>\", \"/\", \"<factor>\")\n",
                "    ],\n",
                "    \"<factor>\": [\n",
                "        (\"<number>\",),\n",
                "        (\"(\", \"<expression>\", \")\")\n",
                "    ],\n",
                "    \"<number>\": \"^[0-9]+$\"  # A regular expression to match one or more digits\n",
                "}"
            ]
        },
        {
            "attachments": {},
            "cell_type": "markdown",
            "metadata": {},
            "source": [
                "## Step 2: Manually Parsing an Expression\n",
                "\n",
                "Before automating the process, let's manually parse a simple expression, such as \"3 + 2 * 1\". This exercise will help us understand the steps required to decompose an expression into its components, following our defined grammar.\n",
                "\n",
                "1. **Identify the main components**: The expression can be broken down into an expression comprising a term, an operator, and another term.\n",
                "2. **Further decomposition**: Each term can be a factor or another operation.\n",
                "\n",
                "Manual parsing helps us understand the recursive nature of grammars."
            ]
        },
        {
            "attachments": {},
            "cell_type": "markdown",
            "metadata": {},
            "source": [
                "## Step 3: Constructing the Parse Tree\n",
                "\n",
                "With our parsed expression, we can now represent it as a parse tree. For simplicity, let's define this structure as an adjacency list in Python:"
            ]
        },
        {
            "cell_type": "code",
            "execution_count": 4,
            "metadata": {},
            "outputs": [],
            "source": [
                "parse_tree = {\n",
                "    'expression': ['4', 'op*', 'term'],\n",
                "    'term': ['3', 'op+', '2']\n",
                "}"
            ]
        },
        {
            "attachments": {},
            "cell_type": "markdown",
            "metadata": {},
            "source": [
                "## Step 4: Building and Visualising the Parse Tree\n",
                "\n",
                "To visualise this tree, we'll create a directed graph with **NetworkX** and then draw it with **Matplotlib**."
            ]
        },
        {
            "cell_type": "code",
            "execution_count": 8,
            "metadata": {},
            "outputs": [
                {
                    "name": "stdout",
                    "output_type": "stream",
                    "text": [
                        "('expression', ('number', '3'), '+', ('term', ('number', '2'), '*', ('expression', ('number', '1'), '+', ('number', '4'))))\n"
                    ]
                }
            ],
            "source": [
                "import re\n",
                "\n",
                "class Parser:\n",
                "    def __init__(self, input):\n",
                "        self.tokens = re.findall(r'\\d+|[+*/()-]', input)\n",
                "        self.current_token = None\n",
                "        self.next_token()\n",
                "\n",
                "    def next_token(self):\n",
                "        if self.tokens:\n",
                "            self.current_token = self.tokens.pop(0)\n",
                "        else:\n",
                "            self.current_token = None\n",
                "\n",
                "    def match(self, token):\n",
                "        if self.current_token == token:\n",
                "            self.next_token()\n",
                "        else:\n",
                "            raise ParserError(f\"Expected {token}, got {self.current_token}\")\n",
                "\n",
                "    def parse_number(self):\n",
                "        if self.current_token.isdigit():\n",
                "            token = self.current_token\n",
                "            self.next_token()\n",
                "            return ('number', token)\n",
                "        raise ParserError(f\"Expected number, got {self.current_token}\")\n",
                "\n",
                "    def parse_factor(self):\n",
                "        if self.current_token == '(':\n",
                "            self.match('(')\n",
                "            node = self.parse_expression()\n",
                "            self.match(')')\n",
                "            return node\n",
                "        else:\n",
                "            return self.parse_number()\n",
                "\n",
                "    def parse_term(self):\n",
                "        node = self.parse_factor()\n",
                "        while self.current_token in ['*', '/']:\n",
                "            operator = self.current_token\n",
                "            self.next_token()\n",
                "            node = ('term', node, operator, self.parse_factor())\n",
                "        return node\n",
                "\n",
                "    def parse_expression(self):\n",
                "        node = self.parse_term()\n",
                "        while self.current_token in ['+', '-']:\n",
                "            operator = self.current_token\n",
                "            self.next_token()\n",
                "            node = ('expression', node, operator, self.parse_term())\n",
                "        return node\n",
                "\n",
                "    def parse(self):\n",
                "        return self.parse_expression()\n",
                "\n",
                "# Example usage\n",
                "input_expression = \"3 + 2 * (1 + 4)\"\n",
                "parser = Parser(input_expression)\n",
                "try:\n",
                "    parse_tree = parser.parse()\n",
                "    print(parse_tree)\n",
                "except ParserError as e:\n",
                "    print(f\"Parse error: {e}\")"
            ]
        },
        {
            "cell_type": "code",
            "execution_count": 5,
            "metadata": {},
            "outputs": [
                {
                    "data": {
                        "image/png": "[encoded data removed]",
                        "text/plain": [
                            "<Figure size 640x480 with 1 Axes>"
                        ]
                    },
                    "metadata": {},
                    "output_type": "display_data"
                }
            ],
            "source": [
                "import networkx as nx\n",
                "import matplotlib.pyplot as plt\n",
                "from networkx.drawing.nx_agraph import graphviz_layout\n",
                "\n",
                "# Create the directed graph from our parse tree\n",
                "G = nx.DiGraph()\n",
                "\n",
                "# Function to add nodes and edges\n",
                "def add_nodes_and_edges(G, node, adjacency_list):\n",
                "    if node not in adjacency_list:\n",
                "        return\n",
                "    for child in adjacency_list[node]:\n",
                "        G.add_edge(node, child)\n",
                "        add_nodes_and_edges(G, child, adjacency_list)\n",
                "\n",
                "add_nodes_and_edges(G, 'expression', parse_tree)\n",
                "\n",
                "# Use Graphviz to position the nodes in a hierarchical layout\n",
                "pos = graphviz_layout(G, prog='dot')\n",
                "\n",
                "# Draw the tree with a top-down hierarchy\n",
                "nx.draw(\n",
                "    G, pos, with_labels=True, arrows=False, \n",
                "    node_size=2000, node_color=\"pink\", font_size=10, \n",
                "    font_weight=\"bold\"\n",
                "        )\n",
                "\n",
                "plt.show()"
            ]
        },
        {
            "attachments": {},
            "cell_type": "markdown",
            "metadata": {},
            "source": [
                "## Exercises\n",
                "\n",
                "1. **Parse a New Expression**: Given the expression \"4 * (3 + 2)\", manually parse it according to the grammar provided. Represent your parsed expression as an adjacency list.\n",
                "2. **Construct and Visualise**: Using your adjacency list from Exercise 1, modify the Python script to build and visualise the new parse tree.\n",
                "3. **Extend the Grammar**: Add subtraction and division to our grammar. The updated grammar should allow parsing expressions that include \"-\", and \"/\".\n",
                "4. **Automate Parsing**: (Advanced) Write a simple parser that takes an arithmetic expression as input and outputs the corresponding adjacency list. You may use recursive descent parsing techniques to achieve this."
            ]
        }
    ],
    "metadata": {
        "kernelspec": {
            "display_name": "Python 3 (ipykernel)",
            "language": "python",
            "name": "python3"
        },
        "language_info": {
            "codemirror_mode": {
                "name": "ipython",
                "version": 3
            },
            "file_extension": ".py",
            "mimetype": "text/x-python",
            "name": "python",
            "nbconvert_exporter": "python",
            "pygments_lexer": "ipython3",
            "version": "3.10.13"
        }
    },
    "nbformat": 4,
    "nbformat_minor": 2
}
